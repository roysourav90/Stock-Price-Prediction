{
  "nbformat": 4,
  "nbformat_minor": 0,
  "metadata": {
    "colab": {
      "name": "StockPrice Prediction(Tesla).ipynb",
      "provenance": [],
      "collapsed_sections": []
    },
    "kernelspec": {
      "name": "python3",
      "display_name": "Python 3"
    }
  },
  "cells": [
    {
      "cell_type": "code",
      "metadata": {
        "id": "pk1ph9PVhvxd"
      },
      "source": [
        "#Import Liabries\n",
        "\n",
        "import math\n",
        "import numpy as np\n",
        "import pandas as pd \n",
        "from sklearn.preprocessing import MinMaxScaler\n",
        "from keras.models import Sequential\n",
        "from keras.layers import Dense, LSTM\n",
        "import matplotlib.pyplot as plt\n",
        "plt.style.use('fivethirtyeight')\n"
      ],
      "execution_count": 13,
      "outputs": []
    },
    {
      "cell_type": "code",
      "metadata": {
        "colab": {
          "base_uri": "https://localhost:8080/"
        },
        "id": "TKa4bcUinYJk",
        "outputId": "47763bed-9f91-456e-c40e-a42350552749"
      },
      "source": [
        "pip install yfinance"
      ],
      "execution_count": 6,
      "outputs": [
        {
          "output_type": "stream",
          "name": "stdout",
          "text": [
            "Collecting yfinance\n",
            "  Downloading yfinance-0.1.63.tar.gz (26 kB)\n",
            "Requirement already satisfied: pandas>=0.24 in /usr/local/lib/python3.7/dist-packages (from yfinance) (1.1.5)\n",
            "Requirement already satisfied: numpy>=1.15 in /usr/local/lib/python3.7/dist-packages (from yfinance) (1.19.5)\n",
            "Requirement already satisfied: requests>=2.20 in /usr/local/lib/python3.7/dist-packages (from yfinance) (2.23.0)\n",
            "Requirement already satisfied: multitasking>=0.0.7 in /usr/local/lib/python3.7/dist-packages (from yfinance) (0.0.9)\n",
            "Collecting lxml>=4.5.1\n",
            "  Downloading lxml-4.6.3-cp37-cp37m-manylinux2014_x86_64.whl (6.3 MB)\n",
            "\u001b[K     |████████████████████████████████| 6.3 MB 7.6 MB/s \n",
            "\u001b[?25hRequirement already satisfied: python-dateutil>=2.7.3 in /usr/local/lib/python3.7/dist-packages (from pandas>=0.24->yfinance) (2.8.2)\n",
            "Requirement already satisfied: pytz>=2017.2 in /usr/local/lib/python3.7/dist-packages (from pandas>=0.24->yfinance) (2018.9)\n",
            "Requirement already satisfied: six>=1.5 in /usr/local/lib/python3.7/dist-packages (from python-dateutil>=2.7.3->pandas>=0.24->yfinance) (1.15.0)\n",
            "Requirement already satisfied: urllib3!=1.25.0,!=1.25.1,<1.26,>=1.21.1 in /usr/local/lib/python3.7/dist-packages (from requests>=2.20->yfinance) (1.24.3)\n",
            "Requirement already satisfied: certifi>=2017.4.17 in /usr/local/lib/python3.7/dist-packages (from requests>=2.20->yfinance) (2021.5.30)\n",
            "Requirement already satisfied: chardet<4,>=3.0.2 in /usr/local/lib/python3.7/dist-packages (from requests>=2.20->yfinance) (3.0.4)\n",
            "Requirement already satisfied: idna<3,>=2.5 in /usr/local/lib/python3.7/dist-packages (from requests>=2.20->yfinance) (2.10)\n",
            "Building wheels for collected packages: yfinance\n",
            "  Building wheel for yfinance (setup.py) ... \u001b[?25l\u001b[?25hdone\n",
            "  Created wheel for yfinance: filename=yfinance-0.1.63-py2.py3-none-any.whl size=23918 sha256=5d34ff4d7cea771cf2fe952a0c3809d65f3689bd2548512cb03505a83527edd9\n",
            "  Stored in directory: /root/.cache/pip/wheels/fe/87/8b/7ec24486e001d3926537f5f7801f57a74d181be25b11157983\n",
            "Successfully built yfinance\n",
            "Installing collected packages: lxml, yfinance\n",
            "  Attempting uninstall: lxml\n",
            "    Found existing installation: lxml 4.2.6\n",
            "    Uninstalling lxml-4.2.6:\n",
            "      Successfully uninstalled lxml-4.2.6\n",
            "Successfully installed lxml-4.6.3 yfinance-0.1.63\n"
          ]
        }
      ]
    },
    {
      "cell_type": "code",
      "metadata": {
        "id": "QDGYVQp3nR8h"
      },
      "source": [
        "import pandas\n",
        "from pandas_datareader import data as pdr\n",
        "import yfinance as yfin\n",
        "yfin.pdr_override()"
      ],
      "execution_count": 7,
      "outputs": []
    },
    {
      "cell_type": "code",
      "metadata": {
        "colab": {
          "base_uri": "https://localhost:8080/",
          "height": 463
        },
        "id": "o8eDnFTFiXXi",
        "outputId": "5f4d61d2-d42d-4041-a106-a5198b385b28"
      },
      "source": [
        "#Get the data\n",
        "df=pdr.get_data_yahoo('TSLA', data_source='yahoo', start='2012-01-01', end='2020-02-16')\n",
        "\n",
        "#Show data\n",
        "df"
      ],
      "execution_count": 8,
      "outputs": [
        {
          "output_type": "stream",
          "name": "stdout",
          "text": [
            "\r[*********************100%***********************]  1 of 1 completed\n"
          ]
        },
        {
          "output_type": "execute_result",
          "data": {
            "text/html": [
              "<div>\n",
              "<style scoped>\n",
              "    .dataframe tbody tr th:only-of-type {\n",
              "        vertical-align: middle;\n",
              "    }\n",
              "\n",
              "    .dataframe tbody tr th {\n",
              "        vertical-align: top;\n",
              "    }\n",
              "\n",
              "    .dataframe thead th {\n",
              "        text-align: right;\n",
              "    }\n",
              "</style>\n",
              "<table border=\"1\" class=\"dataframe\">\n",
              "  <thead>\n",
              "    <tr style=\"text-align: right;\">\n",
              "      <th></th>\n",
              "      <th>Open</th>\n",
              "      <th>High</th>\n",
              "      <th>Low</th>\n",
              "      <th>Close</th>\n",
              "      <th>Adj Close</th>\n",
              "      <th>Volume</th>\n",
              "    </tr>\n",
              "    <tr>\n",
              "      <th>Date</th>\n",
              "      <th></th>\n",
              "      <th></th>\n",
              "      <th></th>\n",
              "      <th></th>\n",
              "      <th></th>\n",
              "      <th></th>\n",
              "    </tr>\n",
              "  </thead>\n",
              "  <tbody>\n",
              "    <tr>\n",
              "      <th>2012-01-03</th>\n",
              "      <td>5.788000</td>\n",
              "      <td>5.900000</td>\n",
              "      <td>5.530000</td>\n",
              "      <td>5.616000</td>\n",
              "      <td>5.616000</td>\n",
              "      <td>4640500</td>\n",
              "    </tr>\n",
              "    <tr>\n",
              "      <th>2012-01-04</th>\n",
              "      <td>5.642000</td>\n",
              "      <td>5.734000</td>\n",
              "      <td>5.500000</td>\n",
              "      <td>5.542000</td>\n",
              "      <td>5.542000</td>\n",
              "      <td>3150500</td>\n",
              "    </tr>\n",
              "    <tr>\n",
              "      <th>2012-01-05</th>\n",
              "      <td>5.552000</td>\n",
              "      <td>5.586000</td>\n",
              "      <td>5.370000</td>\n",
              "      <td>5.424000</td>\n",
              "      <td>5.424000</td>\n",
              "      <td>5027500</td>\n",
              "    </tr>\n",
              "    <tr>\n",
              "      <th>2012-01-06</th>\n",
              "      <td>5.440000</td>\n",
              "      <td>5.558000</td>\n",
              "      <td>5.282000</td>\n",
              "      <td>5.382000</td>\n",
              "      <td>5.382000</td>\n",
              "      <td>4931500</td>\n",
              "    </tr>\n",
              "    <tr>\n",
              "      <th>2012-01-09</th>\n",
              "      <td>5.400000</td>\n",
              "      <td>5.498000</td>\n",
              "      <td>5.224000</td>\n",
              "      <td>5.450000</td>\n",
              "      <td>5.450000</td>\n",
              "      <td>4485000</td>\n",
              "    </tr>\n",
              "    <tr>\n",
              "      <th>...</th>\n",
              "      <td>...</td>\n",
              "      <td>...</td>\n",
              "      <td>...</td>\n",
              "      <td>...</td>\n",
              "      <td>...</td>\n",
              "      <td>...</td>\n",
              "    </tr>\n",
              "    <tr>\n",
              "      <th>2020-02-10</th>\n",
              "      <td>160.000000</td>\n",
              "      <td>163.998001</td>\n",
              "      <td>150.479996</td>\n",
              "      <td>154.255997</td>\n",
              "      <td>154.255997</td>\n",
              "      <td>123446000</td>\n",
              "    </tr>\n",
              "    <tr>\n",
              "      <th>2020-02-11</th>\n",
              "      <td>153.757996</td>\n",
              "      <td>156.701996</td>\n",
              "      <td>151.600006</td>\n",
              "      <td>154.876007</td>\n",
              "      <td>154.876007</td>\n",
              "      <td>58487500</td>\n",
              "    </tr>\n",
              "    <tr>\n",
              "      <th>2020-02-12</th>\n",
              "      <td>155.574005</td>\n",
              "      <td>157.949997</td>\n",
              "      <td>152.673996</td>\n",
              "      <td>153.457993</td>\n",
              "      <td>153.457993</td>\n",
              "      <td>60112500</td>\n",
              "    </tr>\n",
              "    <tr>\n",
              "      <th>2020-02-13</th>\n",
              "      <td>148.367996</td>\n",
              "      <td>163.600006</td>\n",
              "      <td>147.000000</td>\n",
              "      <td>160.800003</td>\n",
              "      <td>160.800003</td>\n",
              "      <td>131446500</td>\n",
              "    </tr>\n",
              "    <tr>\n",
              "      <th>2020-02-14</th>\n",
              "      <td>157.444000</td>\n",
              "      <td>162.593994</td>\n",
              "      <td>157.100006</td>\n",
              "      <td>160.005997</td>\n",
              "      <td>160.005997</td>\n",
              "      <td>78468500</td>\n",
              "    </tr>\n",
              "  </tbody>\n",
              "</table>\n",
              "<p>2043 rows × 6 columns</p>\n",
              "</div>"
            ],
            "text/plain": [
              "                  Open        High  ...   Adj Close     Volume\n",
              "Date                                ...                       \n",
              "2012-01-03    5.788000    5.900000  ...    5.616000    4640500\n",
              "2012-01-04    5.642000    5.734000  ...    5.542000    3150500\n",
              "2012-01-05    5.552000    5.586000  ...    5.424000    5027500\n",
              "2012-01-06    5.440000    5.558000  ...    5.382000    4931500\n",
              "2012-01-09    5.400000    5.498000  ...    5.450000    4485000\n",
              "...                ...         ...  ...         ...        ...\n",
              "2020-02-10  160.000000  163.998001  ...  154.255997  123446000\n",
              "2020-02-11  153.757996  156.701996  ...  154.876007   58487500\n",
              "2020-02-12  155.574005  157.949997  ...  153.457993   60112500\n",
              "2020-02-13  148.367996  163.600006  ...  160.800003  131446500\n",
              "2020-02-14  157.444000  162.593994  ...  160.005997   78468500\n",
              "\n",
              "[2043 rows x 6 columns]"
            ]
          },
          "metadata": {},
          "execution_count": 8
        }
      ]
    },
    {
      "cell_type": "code",
      "metadata": {
        "colab": {
          "base_uri": "https://localhost:8080/"
        },
        "id": "38CY91U8jHot",
        "outputId": "55b21a28-12f3-4bd3-fddf-4224e1dc8398"
      },
      "source": [
        "#no. of rows and columns\n",
        "df.shape"
      ],
      "execution_count": 9,
      "outputs": [
        {
          "output_type": "execute_result",
          "data": {
            "text/plain": [
              "(2043, 6)"
            ]
          },
          "metadata": {},
          "execution_count": 9
        }
      ]
    },
    {
      "cell_type": "code",
      "metadata": {
        "colab": {
          "base_uri": "https://localhost:8080/",
          "height": 557
        },
        "id": "xPmWfiBmjPVM",
        "outputId": "b091fe85-3424-4303-cb8d-5199551aadb5"
      },
      "source": [
        "#Visualize the closing price\n",
        "plt.figure(figsize=(16,8))\n",
        "plt.title('Close Price History')\n",
        "plt.plot(df['Close'])\n",
        "plt.xlabel('Date', fontsize=18)\n",
        "plt.ylabel('Close Price USD ($)', fontsize=18)\n",
        "plt.show()"
      ],
      "execution_count": 10,
      "outputs": [
        {
          "output_type": "display_data",
          "data": {
            "image/png": "[encoded data removed]",
            "text/plain": [
              "<Figure size 1152x576 with 1 Axes>"
            ]
          },
          "metadata": {}
        }
      ]
    },
    {
      "cell_type": "code",
      "metadata": {
        "colab": {
          "base_uri": "https://localhost:8080/"
        },
        "id": "HNghzlsePQ1l",
        "outputId": "aa5e3c72-3509-41bd-fb16-78f410da9ef1"
      },
      "source": [
        "#Create a new dataframe with only the close column\n",
        "\n",
        "data = df.filter(['Close'])\n",
        "\n",
        "#Conver the dataframe to a numpy array\n",
        "\n",
        "dataset= data.values\n",
        "\n",
        "#Get the number of rows to train the model on\n",
        "\n",
        "trainig_data_len = math.ceil(len(dataset) * .8)\n",
        "\n",
        "trainig_data_len\n"
      ],
      "execution_count": 11,
      "outputs": [
        {
          "output_type": "execute_result",
          "data": {
            "text/plain": [
              "1635"
            ]
          },
          "metadata": {},
          "execution_count": 11
        }
      ]
    },
    {
      "cell_type": "code",
      "metadata": {
        "colab": {
          "base_uri": "https://localhost:8080/"
        },
        "id": "ZIq3_nRRQGVf",
        "outputId": "319d23bf-bdb2-4cc3-ba6b-cd3dbab27cf5"
      },
      "source": [
        "#Scale the data\n",
        "\n",
        "scaler = MinMaxScaler(feature_range=(0,1))\n",
        "scale_data = scaler.fit_transform(dataset)\n",
        "\n",
        "\n",
        "scale_data"
      ],
      "execution_count": 12,
      "outputs": [
        {
          "output_type": "execute_result",
          "data": {
            "text/plain": [
              "array([[0.00612077],\n",
              "       [0.00569266],\n",
              "       [0.00501001],\n",
              "       ...,\n",
              "       [0.86142056],\n",
              "       [0.90389578],\n",
              "       [0.89930227]])"
            ]
          },
          "metadata": {},
          "execution_count": 12
        }
      ]
    },
    {
      "cell_type": "code",
      "metadata": {
        "colab": {
          "base_uri": "https://localhost:8080/"
        },
        "id": "sw244XpVRcmk",
        "outputId": "8e6b1a3f-92f8-44b7-e975-7e0f60c1dc02"
      },
      "source": [
        "#Create the training data set\n",
        "#Create the Scale training data set\n",
        "train_data = scale_data[0:trainig_data_len , :]\n",
        "#Split the data into x_train and y_train data sets\n",
        "x_train = []\n",
        "y_train = []\n",
        "\n",
        "for i in range(60, len(train_data)):\n",
        "  x_train.append(train_data[i-60:i, 0])   #Contain 0 - 59 data\n",
        "  y_train.append(train_data[i, 0])        #Contain 60 - remaining\n",
        "  if i<= 61:\n",
        "    print(x_train)\n",
        "    print(y_train)\n",
        "    print()\n"
      ],
      "execution_count": null,
      "outputs": [
        {
          "output_type": "stream",
          "text": [
            "[array([0.00612077, 0.00569266, 0.00501001, 0.00476703, 0.00516042,\n",
            "       0.00558853, 0.00629433, 0.00631747, 0.        , 0.00440835,\n",
            "       0.00465132, 0.00459347, 0.00440835, 0.00460504, 0.00535712,\n",
            "       0.0059935 , 0.00711583, 0.00756708, 0.00784477, 0.00726625,\n",
            "       0.00785634, 0.00863156, 0.0096729 , 0.01042498, 0.01019357,\n",
            "       0.0105754 , 0.01132748, 0.00961505, 0.0100663 , 0.01201013,\n",
            "       0.01250766, 0.01317875, 0.01409282, 0.01354901, 0.01322503,\n",
            "       0.01358372, 0.01268122, 0.01253081, 0.01275064, 0.01228783,\n",
            "       0.01344487, 0.01301677, 0.01270436, 0.01194071, 0.01195228,\n",
            "       0.01189443, 0.0138267 , 0.01529615, 0.01538871, 0.01446307,\n",
            "       0.01412753, 0.01449778, 0.01410439, 0.01408125, 0.01430109,\n",
            "       0.0134333 , 0.01306305, 0.01690444, 0.01752924, 0.01742511])]\n",
            "[0.016823446091615766]\n",
            "\n",
            "[array([0.00612077, 0.00569266, 0.00501001, 0.00476703, 0.00516042,\n",
            "       0.00558853, 0.00629433, 0.00631747, 0.        , 0.00440835,\n",
            "       0.00465132, 0.00459347, 0.00440835, 0.00460504, 0.00535712,\n",
            "       0.0059935 , 0.00711583, 0.00756708, 0.00784477, 0.00726625,\n",
            "       0.00785634, 0.00863156, 0.0096729 , 0.01042498, 0.01019357,\n",
            "       0.0105754 , 0.01132748, 0.00961505, 0.0100663 , 0.01201013,\n",
            "       0.01250766, 0.01317875, 0.01409282, 0.01354901, 0.01322503,\n",
            "       0.01358372, 0.01268122, 0.01253081, 0.01275064, 0.01228783,\n",
            "       0.01344487, 0.01301677, 0.01270436, 0.01194071, 0.01195228,\n",
            "       0.01189443, 0.0138267 , 0.01529615, 0.01538871, 0.01446307,\n",
            "       0.01412753, 0.01449778, 0.01410439, 0.01408125, 0.01430109,\n",
            "       0.0134333 , 0.01306305, 0.01690444, 0.01752924, 0.01742511]), array([0.00569266, 0.00501001, 0.00476703, 0.00516042, 0.00558853,\n",
            "       0.00629433, 0.00631747, 0.        , 0.00440835, 0.00465132,\n",
            "       0.00459347, 0.00440835, 0.00460504, 0.00535712, 0.0059935 ,\n",
            "       0.00711583, 0.00756708, 0.00784477, 0.00726625, 0.00785634,\n",
            "       0.00863156, 0.0096729 , 0.01042498, 0.01019357, 0.0105754 ,\n",
            "       0.01132748, 0.00961505, 0.0100663 , 0.01201013, 0.01250766,\n",
            "       0.01317875, 0.01409282, 0.01354901, 0.01322503, 0.01358372,\n",
            "       0.01268122, 0.01253081, 0.01275064, 0.01228783, 0.01344487,\n",
            "       0.01301677, 0.01270436, 0.01194071, 0.01195228, 0.01189443,\n",
            "       0.0138267 , 0.01529615, 0.01538871, 0.01446307, 0.01412753,\n",
            "       0.01449778, 0.01410439, 0.01408125, 0.01430109, 0.0134333 ,\n",
            "       0.01306305, 0.01690444, 0.01752924, 0.01742511, 0.01682345])]\n",
            "[0.016823446091615766, 0.016719311240080952]\n",
            "\n"
          ],
          "name": "stdout"
        }
      ]
    },
    {
      "cell_type": "code",
      "metadata": {
        "id": "A8_fzsSUTeuO"
      },
      "source": [
        "#Convert the x_train and y_train to numpy arrays\n",
        "\n",
        "x_train, y_train = np.array(x_train), np.array(y_train)"
      ],
      "execution_count": null,
      "outputs": []
    },
    {
      "cell_type": "code",
      "metadata": {
        "colab": {
          "base_uri": "https://localhost:8080/"
        },
        "id": "RaxlFINrTSVw",
        "outputId": "a4dff2a0-c70e-41e6-bb0b-2d542bde4bd1"
      },
      "source": [
        "#Reshape the data\n",
        "\n",
        "x_train = np.reshape(x_train, (x_train.shape[0], x_train.shape[1], 1))\n",
        "x_train.shape"
      ],
      "execution_count": null,
      "outputs": [
        {
          "output_type": "execute_result",
          "data": {
            "text/plain": [
              "(1575, 60, 1)"
            ]
          },
          "metadata": {
            "tags": []
          },
          "execution_count": 86
        }
      ]
    },
    {
      "cell_type": "code",
      "metadata": {
        "id": "SxORcKpqVHRS"
      },
      "source": [
        "#Build the LSTM Model\n",
        "\n",
        "model = Sequential()\n",
        "model.add(LSTM(50, return_sequences=True, input_shape= (x_train.shape[1], 1)))     #50 Neuron LSTM Layer\n",
        "model.add(LSTM(50, return_sequences=False))\n",
        "model.add(Dense(25))                                                             #Dense Layer 25 Neuron\n",
        "model.add(Dense(1))"
      ],
      "execution_count": null,
      "outputs": []
    },
    {
      "cell_type": "code",
      "metadata": {
        "id": "35gOOL4aXDnA"
      },
      "source": [
        "#Compile the model\n",
        "\n",
        "model.compile(optimizer='adam', loss='mean_squared_error')  #Loss function used mean squared error to eveluate how the model perform in training"
      ],
      "execution_count": null,
      "outputs": []
    },
    {
      "cell_type": "code",
      "metadata": {
        "colab": {
          "base_uri": "https://localhost:8080/"
        },
        "id": "9zeCU-n5X4qA",
        "outputId": "4f253983-3d59-483b-beb5-4ca26cafcc14"
      },
      "source": [
        "#Train the model\n",
        "\n",
        "model.fit(x_train, y_train, batch_size=1, epochs=5)   #hyperperameter: batch size and epochs\n",
        "                                                      #Used epochs=5 because it gives me beter prediction"
      ],
      "execution_count": null,
      "outputs": [
        {
          "output_type": "stream",
          "text": [
            "Epoch 1/5\n",
            "1575/1575 [==============================] - 38s 23ms/step - loss: 0.0015\n",
            "Epoch 2/5\n",
            "1575/1575 [==============================] - 35s 22ms/step - loss: 2.7321e-04\n",
            "Epoch 3/5\n",
            "1575/1575 [==============================] - 35s 22ms/step - loss: 1.7575e-04\n",
            "Epoch 4/5\n",
            "1575/1575 [==============================] - 35s 22ms/step - loss: 1.1964e-04\n",
            "Epoch 5/5\n",
            "1575/1575 [==============================] - 35s 22ms/step - loss: 9.4930e-05\n"
          ],
          "name": "stdout"
        },
        {
          "output_type": "execute_result",
          "data": {
            "text/plain": [
              "<tensorflow.python.keras.callbacks.History at 0x7f3902f36908>"
            ]
          },
          "metadata": {
            "tags": []
          },
          "execution_count": 89
        }
      ]
    },
    {
      "cell_type": "code",
      "metadata": {
        "id": "0z6_3FygZtTK"
      },
      "source": [
        "#Create the testing data set\n",
        "#Create a new array containing scaled values from index 1543 to 2003\n",
        "test_data = scale_data[trainig_data_len - 60: , :]\n",
        "#Create the data sets x_test and y_test\n",
        "x_test = []\n",
        "y_test = dataset[trainig_data_len:, :] #include first 60 values\n",
        "for i in range(60, len(test_data)):\n",
        "  x_test.append(test_data[i-60:i, 0])  #Used append parameter to add 60 values in the list"
      ],
      "execution_count": null,
      "outputs": []
    },
    {
      "cell_type": "code",
      "metadata": {
        "id": "4H1wlEFJbyfg"
      },
      "source": [
        "#Convert the data to a numpy array\n",
        "x_test = np.array(x_test)  #Convert to use LSTM model"
      ],
      "execution_count": null,
      "outputs": []
    },
    {
      "cell_type": "code",
      "metadata": {
        "id": "8C6MMEtRczDG"
      },
      "source": [
        "#Reshape the data\n",
        "x_test = np.reshape(x_test, (x_test.shape[0], x_test.shape[1], 1))   # rows(0), columns(1) and features(1)"
      ],
      "execution_count": null,
      "outputs": []
    },
    {
      "cell_type": "code",
      "metadata": {
        "id": "96t0rUFAdPDS"
      },
      "source": [
        "#Get the models predicted price values\n",
        "predictions = model.predict(x_test)\n",
        "predictions = scaler.inverse_transform(predictions)"
      ],
      "execution_count": null,
      "outputs": []
    },
    {
      "cell_type": "code",
      "metadata": {
        "colab": {
          "base_uri": "https://localhost:8080/"
        },
        "id": "pdD9RLNwd_8h",
        "outputId": "9e8006fc-2b87-4725-ae88-ff7cf63b52a7"
      },
      "source": [
        "#Get the root mean squared error (RMSE)\n",
        "rmse = np.sqrt(np.mean(predictions - y_test)**2)\n",
        "rmse"
      ],
      "execution_count": null,
      "outputs": [
        {
          "output_type": "execute_result",
          "data": {
            "text/plain": [
              "0.8865603839649874"
            ]
          },
          "metadata": {
            "tags": []
          },
          "execution_count": 94
        }
      ]
    },
    {
      "cell_type": "code",
      "metadata": {
        "colab": {
          "base_uri": "https://localhost:8080/",
          "height": 667
        },
        "id": "RRdcgs5Delcs",
        "outputId": "15afa3a5-2985-4693-f93f-e7b9f41316cc"
      },
      "source": [
        "#Plot the data\n",
        "train = data[:trainig_data_len]\n",
        "valid = data[trainig_data_len:]\n",
        "valid['Predictions'] = predictions\n",
        "#Visualize the data\n",
        "plt.figure(figsize=(16,8))\n",
        "plt.title('Model')\n",
        "plt.xlabel('Date', fontsize=18)\n",
        "plt.ylabel('Close Price USD ($)', fontsize=18)\n",
        "plt.plot(train['Close'])\n",
        "plt.plot(valid[['Close', 'Predictions']])\n",
        "plt.legend(['Train', 'Val', 'Predictions'], loc='lower right')\n",
        "plt.show()\n"
      ],
      "execution_count": null,
      "outputs": [
        {
          "output_type": "stream",
          "text": [
            "/usr/local/lib/python3.6/dist-packages/ipykernel_launcher.py:4: SettingWithCopyWarning: \n",
            "A value is trying to be set on a copy of a slice from a DataFrame.\n",
            "Try using .loc[row_indexer,col_indexer] = value instead\n",
            "\n",
            "See the caveats in the documentation: https://pandas.pydata.org/pandas-docs/stable/user_guide/indexing.html#returning-a-view-versus-a-copy\n",
            "  after removing the cwd from sys.path.\n"
          ],
          "name": "stderr"
        },
        {
          "output_type": "display_data",
          "data": {
            "image/png": "[encoded data removed]",
            "text/plain": [
              "<Figure size 1152x576 with 1 Axes>"
            ]
          },
          "metadata": {
            "tags": []
          }
        }
      ]
    },
    {
      "cell_type": "code",
      "metadata": {
        "colab": {
          "base_uri": "https://localhost:8080/",
          "height": 437
        },
        "id": "on1gRVSmgfRu",
        "outputId": "9974c122-1e5c-4226-f74d-8c5b707b4133"
      },
      "source": [
        "#show the valid and predicted prices\n",
        "valid"
      ],
      "execution_count": null,
      "outputs": [
        {
          "output_type": "execute_result",
          "data": {
            "text/html": [
              "<div>\n",
              "<style scoped>\n",
              "    .dataframe tbody tr th:only-of-type {\n",
              "        vertical-align: middle;\n",
              "    }\n",
              "\n",
              "    .dataframe tbody tr th {\n",
              "        vertical-align: top;\n",
              "    }\n",
              "\n",
              "    .dataframe thead th {\n",
              "        text-align: right;\n",
              "    }\n",
              "</style>\n",
              "<table border=\"1\" class=\"dataframe\">\n",
              "  <thead>\n",
              "    <tr style=\"text-align: right;\">\n",
              "      <th></th>\n",
              "      <th>Close</th>\n",
              "      <th>Predictions</th>\n",
              "    </tr>\n",
              "    <tr>\n",
              "      <th>Date</th>\n",
              "      <th></th>\n",
              "      <th></th>\n",
              "    </tr>\n",
              "  </thead>\n",
              "  <tbody>\n",
              "    <tr>\n",
              "      <th>2018-07-03</th>\n",
              "      <td>62.172001</td>\n",
              "      <td>67.898094</td>\n",
              "    </tr>\n",
              "    <tr>\n",
              "      <th>2018-07-05</th>\n",
              "      <td>61.832001</td>\n",
              "      <td>63.051445</td>\n",
              "    </tr>\n",
              "    <tr>\n",
              "      <th>2018-07-06</th>\n",
              "      <td>61.779999</td>\n",
              "      <td>63.267609</td>\n",
              "    </tr>\n",
              "    <tr>\n",
              "      <th>2018-07-09</th>\n",
              "      <td>63.702000</td>\n",
              "      <td>63.287052</td>\n",
              "    </tr>\n",
              "    <tr>\n",
              "      <th>2018-07-10</th>\n",
              "      <td>64.494003</td>\n",
              "      <td>65.256760</td>\n",
              "    </tr>\n",
              "    <tr>\n",
              "      <th>...</th>\n",
              "      <td>...</td>\n",
              "      <td>...</td>\n",
              "    </tr>\n",
              "    <tr>\n",
              "      <th>2020-02-10</th>\n",
              "      <td>154.255997</td>\n",
              "      <td>145.636520</td>\n",
              "    </tr>\n",
              "    <tr>\n",
              "      <th>2020-02-11</th>\n",
              "      <td>154.876007</td>\n",
              "      <td>155.526123</td>\n",
              "    </tr>\n",
              "    <tr>\n",
              "      <th>2020-02-12</th>\n",
              "      <td>153.457993</td>\n",
              "      <td>152.081879</td>\n",
              "    </tr>\n",
              "    <tr>\n",
              "      <th>2020-02-13</th>\n",
              "      <td>160.800003</td>\n",
              "      <td>150.646118</td>\n",
              "    </tr>\n",
              "    <tr>\n",
              "      <th>2020-02-14</th>\n",
              "      <td>160.005997</td>\n",
              "      <td>162.427887</td>\n",
              "    </tr>\n",
              "  </tbody>\n",
              "</table>\n",
              "<p>408 rows × 2 columns</p>\n",
              "</div>"
            ],
            "text/plain": [
              "                 Close  Predictions\n",
              "Date                               \n",
              "2018-07-03   62.172001    67.898094\n",
              "2018-07-05   61.832001    63.051445\n",
              "2018-07-06   61.779999    63.267609\n",
              "2018-07-09   63.702000    63.287052\n",
              "2018-07-10   64.494003    65.256760\n",
              "...                ...          ...\n",
              "2020-02-10  154.255997   145.636520\n",
              "2020-02-11  154.876007   155.526123\n",
              "2020-02-12  153.457993   152.081879\n",
              "2020-02-13  160.800003   150.646118\n",
              "2020-02-14  160.005997   162.427887\n",
              "\n",
              "[408 rows x 2 columns]"
            ]
          },
          "metadata": {
            "tags": []
          },
          "execution_count": 96
        }
      ]
    },
    {
      "cell_type": "code",
      "metadata": {
        "colab": {
          "base_uri": "https://localhost:8080/"
        },
        "id": "VU7BMzlEgwct",
        "outputId": "551aff1e-b815-43d4-c6c8-dd5cd4f0cb89"
      },
      "source": [
        "#Get the quote\n",
        "Tesla_quote = web.DataReader('TSLA', data_source='yahoo', start='2012-01-01', end='2020-02-16')\n",
        "new_df = Tesla_quote.filter(['Close'])\n",
        "#Get the Last 60 day closing price values and conver the dataframe to any array\n",
        "last_60_days = new_df[-60:].values\n",
        "#Scale the data to be values between 0 and 1\n",
        "last_60_days_scaled = scaler.transform(last_60_days)\n",
        "#Create an empty list\n",
        "X_test = []\n",
        "#Append teh past 60 days\n",
        "X_test.append(last_60_days_scaled)\n",
        "#Convert the X_test dataset to numpy array\n",
        "X_test = np.array(X_test)\n",
        "#Reshape the data\n",
        "X_test = np.reshape(X_test, (X_test.shape[0], X_test.shape[1], 1))\n",
        "#Get the predicted scaled price\n",
        "pred_price = model.predict(X_test)\n",
        "#undo the scaling\n",
        "pred_price = scaler.inverse_transform(pred_price)\n",
        "print(pred_price)"
      ],
      "execution_count": null,
      "outputs": [
        {
          "output_type": "stream",
          "text": [
            "[[155.40762]]\n"
          ],
          "name": "stdout"
        }
      ]
    },
    {
      "cell_type": "code",
      "metadata": {
        "colab": {
          "base_uri": "https://localhost:8080/"
        },
        "id": "O72ofLaEjrh0",
        "outputId": "e6a89a75-1f3f-481f-dc15-2bc8ed83afbc"
      },
      "source": [
        "#Get the quote\n",
        "Tesla_quote2 = web.DataReader('TSLA', data_source='yahoo', start='2020-02-18', end='2020-02-18')\n",
        "print(Tesla_quote2['Close'])"
      ],
      "execution_count": null,
      "outputs": [
        {
          "output_type": "stream",
          "text": [
            "Date\n",
            "2020-02-18    171.679993\n",
            "Name: Close, dtype: float64\n"
          ],
          "name": "stdout"
        }
      ]
    }
  ]
}